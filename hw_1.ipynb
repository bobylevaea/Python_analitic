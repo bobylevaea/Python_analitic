{
  "nbformat": 4,
  "nbformat_minor": 0,
  "metadata": {
    "colab": {
      "provenance": []
    },
    "kernelspec": {
      "name": "python3",
      "display_name": "Python 3"
    },
    "language_info": {
      "name": "python"
    }
  },
  "cells": [
    {
      "cell_type": "markdown",
      "source": [
        "##**Условие 1:**\n",
        "Оформляйте ноутбук, используя эти советы:\n",
        "\n",
        "Номер задачи - заголовок 2\n",
        "\n",
        "Номер подзадачи - заголовок 3\n",
        "\n",
        "Предоставленные наборы данных оформляйте, как код"
      ],
      "metadata": {
        "id": "UrKs9lzyhKK6"
      }
    },
    {
      "cell_type": "markdown",
      "source": [
        "##**Условие 2:**\n",
        "На складе лежат разные фрукты в разном количестве.\n",
        "\n",
        "Нужно написать функцию, которая на вход принимает любое количество названий фруктов и их количество, а возвращает общее количество фруктов на складе"
      ],
      "metadata": {
        "id": "-L8QeqCxhOQo"
      }
    },
    {
      "cell_type": "code",
      "source": [
        "def total_fruits(**kwargs):\n",
        "    total = sum(kwargs.values())\n",
        "    return f'Всего фруктов: {total}'"
      ],
      "metadata": {
        "id": "t_FJCk7kh_W2"
      },
      "execution_count": 23,
      "outputs": []
    },
    {
      "cell_type": "code",
      "source": [
        "\n",
        "total_fruits(pear=5, kiwi=7, apple=8, peach=10)"
      ],
      "metadata": {
        "colab": {
          "base_uri": "https://localhost:8080/",
          "height": 35
        },
        "id": "NH7qvyMyiEfT",
        "outputId": "8c38c4cd-27d5-4e0d-9900-500f50c209b0"
      },
      "execution_count": 24,
      "outputs": [
        {
          "output_type": "execute_result",
          "data": {
            "text/plain": [
              "'Всего фруктов: 30'"
            ],
            "application/vnd.google.colaboratory.intrinsic+json": {
              "type": "string"
            }
          },
          "metadata": {},
          "execution_count": 24
        }
      ]
    },
    {
      "cell_type": "markdown",
      "source": [
        "##**Условие 3:**\n",
        "Дан список с затратами на рекламу.\n",
        "Но в данных есть ошибки, некоторые затраты имеют отрицательную величину.\n",
        "\n",
        "Удалите такие значения из списка и посчитайте суммарные затраты\n",
        "\n",
        "[100, 125, -90, 345, 655, -1, 0, 200]\n",
        "\n",
        "Используйте list comprehensions"
      ],
      "metadata": {
        "id": "v_D7y8W9hQwh"
      }
    },
    {
      "cell_type": "code",
      "source": [
        "costs = [100, 125, -90, 345, 655, -1, 0, 200]\n",
        "total_costs = sum([i for i in costs if i > 0])\n",
        "total_costs"
      ],
      "metadata": {
        "colab": {
          "base_uri": "https://localhost:8080/"
        },
        "id": "Qrqf476Nj0BG",
        "outputId": "b081e7f6-29cb-454c-a991-5d383bf29fc3"
      },
      "execution_count": 3,
      "outputs": [
        {
          "output_type": "execute_result",
          "data": {
            "text/plain": [
              "1425"
            ]
          },
          "metadata": {},
          "execution_count": 3
        }
      ]
    },
    {
      "cell_type": "markdown",
      "source": [
        "##**Условие 4:**\n",
        "\n",
        "Даны два списка.\n",
        "\n",
        "Дата покупки\n",
        "\n",
        "['2021-09-14', '2021-12-15', '2021-09-08', '2021-12-05', '2021-10-09', '2021-09-30', '2021-12-22', '2021-11-29', '2021-12-24', '2021-11-26', '2021-10-27', '2021-12-18', '2021-11-09', '2021-11-23', '2021-09-27', '2021-10-02', '2021-12-27', '2021-09-20', '2021-12-13', '2021-11-01', '2021-11-09', '2021-12-06', '2021-12-08', '2021-10-09', '2021-10-31', '2021-09-30', '2021-11-09', '2021-12-13', '2021-10-26', '2021-12-09']\n",
        "\n",
        "Суммы покупок по датам\n",
        "\n",
        "[1270, 8413, 9028, 3703, 5739, 4095, 295, 4944, 5723, 3701, 4471, 651, 7037, 4274, 6275, 4988, 6930, 2971, 6592, 2004, 2822, 519, 3406, 2732, 5015, 2008, 316, 6333, 5700, 2887]"
      ],
      "metadata": {
        "id": "_p_dmIhmhUUY"
      }
    },
    {
      "cell_type": "markdown",
      "source": [
        "###**4.1**\n",
        "Найдите, какая выручка у компании в ноябре Используйте list comprehensions"
      ],
      "metadata": {
        "id": "uN6uqEB2tx1z"
      }
    },
    {
      "cell_type": "code",
      "source": [
        "purchase_dates = ['2021-09-14', '2021-12-15', '2021-09-08', '2021-12-05', '2021-10-09',\n",
        "                '2021-09-30', '2021-12-22', '2021-11-29', '2021-12-24', '2021-11-26',\n",
        "                '2021-10-27', '2021-12-18', '2021-11-09', '2021-11-23', '2021-09-27',\n",
        "                '2021-10-02', '2021-12-27', '2021-09-20', '2021-12-13', '2021-11-01',\n",
        "                '2021-11-09', '2021-12-06', '2021-12-08', '2021-10-09', '2021-10-31',\n",
        "                '2021-09-30', '2021-11-09', '2021-12-13', '2021-10-26', '2021-12-09']\n",
        "purchase_amounts = [1270, 8413, 9028, 3703, 5739, 4095, 295, 4944, 5723, 3701,\n",
        "                4471, 651, 7037, 4274, 6275, 4988, 6930, 2971, 6592, 2004,\n",
        "                2822, 519, 3406, 2732, 5015, 2008, 316, 6333, 5700, 2887]"
      ],
      "metadata": {
        "id": "H_act1oAj-wD"
      },
      "execution_count": 26,
      "outputs": []
    },
    {
      "cell_type": "code",
      "source": [
        "# Создаем список пар (дата, сумма), только для ноября\n",
        "november_purchases = [(date, amount) for date, amount in zip(purchase_dates, purchase_amounts) if date.startswith('2021-11')]\n",
        "\n",
        "# Считаем общую выручку за ноябрь\n",
        "total_revenue_november = sum([amount for _, amount in november_purchases])\n",
        "\n",
        "print(f'Выручка компании в ноябре: {total_revenue_november}')"
      ],
      "metadata": {
        "colab": {
          "base_uri": "https://localhost:8080/"
        },
        "id": "OQyX7xARkDjb",
        "outputId": "766e873c-3cbf-4394-b044-32d76bab5679"
      },
      "execution_count": 27,
      "outputs": [
        {
          "output_type": "stream",
          "name": "stdout",
          "text": [
            "Выручка компании в ноябре: 25098\n"
          ]
        }
      ]
    },
    {
      "cell_type": "markdown",
      "source": [
        "###**4.2**\n",
        "Найдите выручку компании в зависимости от месяца.\n",
        "Для этого напишите функцию, которая на вход принимает список с датами и список с выручкой, а на выходе словарь, где ключи - это месяцы, а значения - это выручка. Используйте аннотирование типов."
      ],
      "metadata": {
        "id": "uzL97DgVhLVI"
      }
    },
    {
      "cell_type": "code",
      "source": [
        "def calculate_revenue_by_month(dates: list, amounts: list) -> dict:\n",
        "    revenue_by_month = {date[:7]: 0 for date in dates}  # Инициализация словаря с ключами-месяцами\n",
        "\n",
        "    # Вычисление выручки по месяцам\n",
        "    for date, amount in zip(dates, amounts):\n",
        "        month = date[:7]\n",
        "        revenue_by_month[month] += amount\n",
        "\n",
        "    return revenue_by_month"
      ],
      "metadata": {
        "id": "4Isixd9NkYy7"
      },
      "execution_count": 31,
      "outputs": []
    },
    {
      "cell_type": "code",
      "source": [
        "revenue_by_month = calculate_revenue_by_month(purchase_dates, purchase_amounts)\n",
        "\n",
        "print(\"Выручка компании по месяцам:\")\n",
        "for month, revenue in revenue_by_month.items():\n",
        "    print(month, \":\", revenue)"
      ],
      "metadata": {
        "colab": {
          "base_uri": "https://localhost:8080/"
        },
        "id": "LBHlx2C2kcR-",
        "outputId": "ecc9bc15-9d8b-4c96-abcc-7cb8e177df42"
      },
      "execution_count": 30,
      "outputs": [
        {
          "output_type": "stream",
          "name": "stdout",
          "text": [
            "Выручка компании по месяцам:\n",
            "2021-09 : 25647\n",
            "2021-12 : 45452\n",
            "2021-10 : 28645\n",
            "2021-11 : 25098\n"
          ]
        }
      ]
    }
  ]
}